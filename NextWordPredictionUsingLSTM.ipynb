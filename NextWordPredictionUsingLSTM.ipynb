{
  "nbformat": 4,
  "nbformat_minor": 0,
  "metadata": {
    "colab": {
      "name": "NextWordPredictionUsingLSTM.ipynb",
      "provenance": [],
      "collapsed_sections": []
    },
    "kernelspec": {
      "name": "python3",
      "display_name": "Python 3"
    },
    "language_info": {
      "name": "python"
    },
    "accelerator": "GPU"
  },
  "cells": [
    {
      "cell_type": "code",
      "metadata": {
        "colab": {
          "base_uri": "https://localhost:8080/"
        },
        "id": "l1nOHR187XEk",
        "outputId": "bb718569-5316-4ef9-e61e-5de13649aaab"
      },
      "source": [
        "from google.colab import drive\n",
        "drive.mount('/content/gdrive')"
      ],
      "execution_count": null,
      "outputs": [
        {
          "output_type": "stream",
          "name": "stdout",
          "text": [
            "Mounted at /content/gdrive\n"
          ]
        }
      ]
    },
    {
      "cell_type": "code",
      "metadata": {
        "id": "jL945sRo8n0t"
      },
      "source": [
        "import tensorflow as tf\n",
        "from tensorflow.keras.preprocessing.text import Tokenizer\n",
        "from tensorflow.keras.layers import Embedding, Dense, LSTM\n",
        "from tensorflow.keras.models import Sequential\n",
        "from tensorflow.keras.utils import to_categorical\n",
        "from tensorflow.keras.optimizers import Adam\n",
        "import pickle\n",
        "import numpy as np"
      ],
      "execution_count": null,
      "outputs": []
    },
    {
      "cell_type": "markdown",
      "metadata": {
        "id": "K0mF0Z9L9m6Y"
      },
      "source": [
        "# **Load and Preprocess Data**"
      ]
    },
    {
      "cell_type": "code",
      "metadata": {
        "colab": {
          "base_uri": "https://localhost:8080/",
          "height": 137
        },
        "id": "L9n0uAPG9r-U",
        "outputId": "dce06137-e445-4257-bd36-78fd133a6421"
      },
      "source": [
        "URL = '/content/gdrive/My Drive/ICE477/text1.txt'\n",
        "file = open(URL,'r',encoding='utf8')\n",
        "lines = []\n",
        "for line in file :\n",
        "  lines.append(line)\n",
        "\n",
        "data = \"\"\n",
        "for i in lines:\n",
        "  data = ''.join(lines)\n",
        "# Replace unnecessary stuff with spaces\n",
        "data = data.replace('\\n',' ').replace('+',' ').replace('-',' ').replace('\\ufeff',' ').replace('\"',' ').replace('\\r',' ').replace('|',' ').replace('*',' ')\n",
        "# Remove unnecessary spaces\n",
        "data = data.split()\n",
        "data = ' '.join(data)\n",
        "data[:1000]"
      ],
      "execution_count": null,
      "outputs": [
        {
          "output_type": "execute_result",
          "data": {
            "application/vnd.google.colaboratory.intrinsic+json": {
              "type": "string"
            },
            "text/plain": [
              "\"The Project Gutenberg EBook of My Reminiscences, by Rabindranath Tagore This eBook is for the use of anyone anywhere at no cost and with almost no restrictions whatsoever. You may copy it, give it away or re use it under the terms of the Project Gutenberg License included with this eBook or online at www.gutenberg.org Title: My Reminiscences Author: Rabindranath Tagore Illustrator: Sasi Kumar Hesh Release Date: August 2, 2007 [EBook #22217] Language: English START OF THIS PROJECT GUTENBERG EBOOK MY REMINISCENCES Produced by Juliet Sutherland and the Online Distributed Proofreading Team at https://www.pgdp.net Transcriber's Note: Obvious typographical errors have been corrected in this text. For a complete list, please see the bottom of this document. Letters with macrons are represented as [=a]. [Illustration: RABINDRANATH TAGORE FROM THE PORTRAIT IN COLOURS BY SASI KUMAR HESH] MY REMINISCENCES BY SIR RABINDRANATH TAGORE WITH FRONTISPIECE FROM THE PORTRAIT IN COLORS BY SASI KUMAR HESH \""
            ]
          },
          "metadata": {},
          "execution_count": 27
        }
      ]
    },
    {
      "cell_type": "code",
      "metadata": {
        "colab": {
          "base_uri": "https://localhost:8080/"
        },
        "id": "FlW02n3jDPXS",
        "outputId": "5c422a87-c6f6-4655-ae6f-cc9444dae594"
      },
      "source": [
        "len(data)"
      ],
      "execution_count": null,
      "outputs": [
        {
          "output_type": "execute_result",
          "data": {
            "text/plain": [
              "357543"
            ]
          },
          "metadata": {},
          "execution_count": 4
        }
      ]
    },
    {
      "cell_type": "markdown",
      "metadata": {
        "id": "u7ncXHPoER85"
      },
      "source": [
        "# **Apply Tokenization**"
      ]
    },
    {
      "cell_type": "code",
      "metadata": {
        "colab": {
          "base_uri": "https://localhost:8080/"
        },
        "id": "6sfMnZJ4EWYw",
        "outputId": "934e9b4a-d3b0-4b09-b627-fcb6e27a2492"
      },
      "source": [
        "tokenizer = Tokenizer()\n",
        "tokenizer.fit_on_texts([data])\n",
        "# Saving the tokenizer for predict function\n",
        "Saved_Token_Path = '/content/gdrive/My Drive/ICE477/token1.pk1'\n",
        "pickle.dump(tokenizer,open(Saved_Token_Path,'wb'))\n",
        "sequence_data = tokenizer.texts_to_sequences([data])[0]\n",
        "sequence_data[0:10]"
      ],
      "execution_count": null,
      "outputs": [
        {
          "output_type": "execute_result",
          "data": {
            "text/plain": [
              "[1, 83, 78, 631, 2, 9, 572, 34, 423, 273]"
            ]
          },
          "metadata": {},
          "execution_count": 28
        }
      ]
    },
    {
      "cell_type": "code",
      "metadata": {
        "colab": {
          "base_uri": "https://localhost:8080/"
        },
        "id": "Mfb3ZFxEFec8",
        "outputId": "956da4c0-66b2-4415-e858-0d4b153603bb"
      },
      "source": [
        "len(sequence_data)"
      ],
      "execution_count": null,
      "outputs": [
        {
          "output_type": "execute_result",
          "data": {
            "text/plain": [
              "64957"
            ]
          },
          "metadata": {},
          "execution_count": 6
        }
      ]
    },
    {
      "cell_type": "code",
      "metadata": {
        "colab": {
          "base_uri": "https://localhost:8080/"
        },
        "id": "auEAkt0xFjAp",
        "outputId": "5ee1946f-5204-4b4c-a98e-057b1b7e625c"
      },
      "source": [
        "vocab_size = len(tokenizer.word_index)+1\n",
        "print(vocab_size)"
      ],
      "execution_count": null,
      "outputs": [
        {
          "output_type": "stream",
          "name": "stdout",
          "text": [
            "8206\n"
          ]
        }
      ]
    },
    {
      "cell_type": "code",
      "metadata": {
        "colab": {
          "base_uri": "https://localhost:8080/"
        },
        "id": "uLZtyEp0HINN",
        "outputId": "94e58e72-bf84-4794-d72e-ec161e77d345"
      },
      "source": [
        "# Split our input abd label from the given sequence_data\n",
        "sequences = []\n",
        "for i in range(3,len(sequence_data)):\n",
        "  words = sequence_data[i-3:i+1]\n",
        "  sequences.append(words)\n",
        "\n",
        "print(\"The length of sequences are \",len(sequences))\n",
        "\n",
        "sequences = np.array(sequences)\n",
        "sequences[0:10]"
      ],
      "execution_count": null,
      "outputs": [
        {
          "output_type": "stream",
          "name": "stdout",
          "text": [
            "The length of sequences are  64954\n"
          ]
        },
        {
          "output_type": "execute_result",
          "data": {
            "text/plain": [
              "array([[  1,  83,  78, 631],\n",
              "       [ 83,  78, 631,   2],\n",
              "       [ 78, 631,   2,   9],\n",
              "       [631,   2,   9, 572],\n",
              "       [  2,   9, 572,  34],\n",
              "       [  9, 572,  34, 423],\n",
              "       [572,  34, 423, 273],\n",
              "       [ 34, 423, 273,  21],\n",
              "       [423, 273,  21, 631],\n",
              "       [273,  21, 631,  17]])"
            ]
          },
          "metadata": {},
          "execution_count": 31
        }
      ]
    },
    {
      "cell_type": "markdown",
      "metadata": {
        "id": "NfE2wQyzIaie"
      },
      "source": [
        "# **Seperate Input data and label**"
      ]
    },
    {
      "cell_type": "code",
      "metadata": {
        "colab": {
          "base_uri": "https://localhost:8080/"
        },
        "id": "hzz2dPT0IYYB",
        "outputId": "55086ad6-af7b-4285-b743-966f1fb89a1b"
      },
      "source": [
        "x = [] # input\n",
        "y = []  # output/label\n",
        "for i in sequences:\n",
        "  x.append(i[0:3])\n",
        "  y.append(i[3])\n",
        "\n",
        "x = np.array(x)\n",
        "y = np.array(y)\n",
        "print(\"Data: \",x[:10])\n",
        "print(\"Response \",y[:10])"
      ],
      "execution_count": null,
      "outputs": [
        {
          "output_type": "stream",
          "name": "stdout",
          "text": [
            "Data:  [[  1  83  78]\n",
            " [ 83  78 631]\n",
            " [ 78 631   2]\n",
            " [631   2   9]\n",
            " [  2   9 572]\n",
            " [  9 572  34]\n",
            " [572  34 423]\n",
            " [ 34 423 273]\n",
            " [423 273  21]\n",
            " [273  21 631]]\n",
            "Response  [631   2   9 572  34 423 273  21 631  17]\n"
          ]
        }
      ]
    },
    {
      "cell_type": "code",
      "metadata": {
        "colab": {
          "base_uri": "https://localhost:8080/"
        },
        "id": "esxCVEdEJtEH",
        "outputId": "a9255673-8a4c-4f61-d536-fbe65708539a"
      },
      "source": [
        "y = to_categorical(y, num_classes=vocab_size)\n",
        "y[:5]"
      ],
      "execution_count": null,
      "outputs": [
        {
          "output_type": "execute_result",
          "data": {
            "text/plain": [
              "array([[0., 0., 0., ..., 0., 0., 0.],\n",
              "       [0., 0., 1., ..., 0., 0., 0.],\n",
              "       [0., 0., 0., ..., 0., 0., 0.],\n",
              "       [0., 0., 0., ..., 0., 0., 0.],\n",
              "       [0., 0., 0., ..., 0., 0., 0.]], dtype=float32)"
            ]
          },
          "metadata": {},
          "execution_count": 33
        }
      ]
    },
    {
      "cell_type": "markdown",
      "metadata": {
        "id": "_W4BnxOiLPZU"
      },
      "source": [
        "# **Creating the Model**"
      ]
    },
    {
      "cell_type": "code",
      "metadata": {
        "id": "EKS4rX_MLOw-"
      },
      "source": [
        "model = Sequential()\n",
        "model.add(Embedding(vocab_size,10,input_length=3))\n",
        "model.add(LSTM(units=1000,return_sequences=True))\n",
        "model.add(LSTM(units=1000))\n",
        "model.add(Dense(1000,activation='relu'))\n",
        "model.add(Dense(vocab_size,activation='softmax'))"
      ],
      "execution_count": null,
      "outputs": []
    },
    {
      "cell_type": "code",
      "metadata": {
        "colab": {
          "base_uri": "https://localhost:8080/"
        },
        "id": "fuahApwOMG3C",
        "outputId": "4ed716d4-d6be-4cbe-e2e6-0a980f0806ae"
      },
      "source": [
        "model.summary()"
      ],
      "execution_count": null,
      "outputs": [
        {
          "output_type": "stream",
          "name": "stdout",
          "text": [
            "Model: \"sequential_1\"\n",
            "_________________________________________________________________\n",
            "Layer (type)                 Output Shape              Param #   \n",
            "=================================================================\n",
            "embedding_1 (Embedding)      (None, 3, 10)             82060     \n",
            "_________________________________________________________________\n",
            "lstm_2 (LSTM)                (None, 3, 1000)           4044000   \n",
            "_________________________________________________________________\n",
            "lstm_3 (LSTM)                (None, 1000)              8004000   \n",
            "_________________________________________________________________\n",
            "dense_2 (Dense)              (None, 1000)              1001000   \n",
            "_________________________________________________________________\n",
            "dense_3 (Dense)              (None, 8206)              8214206   \n",
            "=================================================================\n",
            "Total params: 21,345,266\n",
            "Trainable params: 21,345,266\n",
            "Non-trainable params: 0\n",
            "_________________________________________________________________\n"
          ]
        }
      ]
    },
    {
      "cell_type": "markdown",
      "metadata": {
        "id": "apeEyxc3MsZH"
      },
      "source": [
        "# **Plot the Model**"
      ]
    },
    {
      "cell_type": "code",
      "metadata": {
        "colab": {
          "base_uri": "https://localhost:8080/",
          "height": 564
        },
        "id": "ZrWdsEd8Mu_k",
        "outputId": "a080d229-ca11-40da-8c35-d8f0467dc51d"
      },
      "source": [
        "from tensorflow import keras\n",
        "from keras.utils.vis_utils import plot_model\n",
        "keras.utils.plot_model(model,to_file='plot.png',show_layer_names = True)"
      ],
      "execution_count": null,
      "outputs": [
        {
          "output_type": "execute_result",
          "data": {
            "image/png": "[encoded data removed]",
            "text/plain": [
              "<IPython.core.display.Image object>"
            ]
          },
          "metadata": {},
          "execution_count": 15
        }
      ]
    },
    {
      "cell_type": "markdown",
      "metadata": {
        "id": "Fjnl9CKYN0ZG"
      },
      "source": [
        "# **Build the Model**"
      ]
    },
    {
      "cell_type": "code",
      "metadata": {
        "id": "fLbGfb-mN3Ps"
      },
      "source": [
        "saved_model_location = '/content/gdrive/My Drive/ICE477/next_word_text.h5'\n",
        "from tensorflow.keras.callbacks import ModelCheckpoint\n",
        "checkpoint = ModelCheckpoint(saved_model_location, monitor='loss',verbose=1,save_best_only=True)"
      ],
      "execution_count": null,
      "outputs": []
    },
    {
      "cell_type": "markdown",
      "metadata": {
        "id": "OEV3a6CKOv-d"
      },
      "source": [
        "# **Train the Model**"
      ]
    },
    {
      "cell_type": "code",
      "metadata": {
        "colab": {
          "base_uri": "https://localhost:8080/"
        },
        "id": "qKlQXaCgOtqA",
        "outputId": "25806996-e55e-470f-d541-46e1d8a32a1c"
      },
      "source": [
        "model.compile(loss='categorical_crossentropy',optimizer=Adam(learning_rate=0.001))\n",
        "model.fit(x,y,epochs=70,batch_size= 64,callbacks=[checkpoint])\n"
      ],
      "execution_count": null,
      "outputs": [
        {
          "output_type": "stream",
          "name": "stdout",
          "text": [
            "Epoch 1/70\n",
            "1015/1015 [==============================] - 42s 33ms/step - loss: 6.7229\n",
            "\n",
            "Epoch 00001: loss improved from inf to 6.72287, saving model to /content/gdrive/My Drive/ICE477/next_word_text.h5\n",
            "Epoch 2/70\n",
            "1015/1015 [==============================] - 34s 34ms/step - loss: 6.2012\n",
            "\n",
            "Epoch 00002: loss improved from 6.72287 to 6.20122, saving model to /content/gdrive/My Drive/ICE477/next_word_text.h5\n",
            "Epoch 3/70\n",
            "1015/1015 [==============================] - 34s 33ms/step - loss: 5.8461\n",
            "\n",
            "Epoch 00003: loss improved from 6.20122 to 5.84612, saving model to /content/gdrive/My Drive/ICE477/next_word_text.h5\n",
            "Epoch 4/70\n",
            "1015/1015 [==============================] - 34s 34ms/step - loss: 5.5705\n",
            "\n",
            "Epoch 00004: loss improved from 5.84612 to 5.57050, saving model to /content/gdrive/My Drive/ICE477/next_word_text.h5\n",
            "Epoch 5/70\n",
            "1015/1015 [==============================] - 34s 34ms/step - loss: 5.3149\n",
            "\n",
            "Epoch 00005: loss improved from 5.57050 to 5.31485, saving model to /content/gdrive/My Drive/ICE477/next_word_text.h5\n",
            "Epoch 6/70\n",
            "1015/1015 [==============================] - 34s 33ms/step - loss: 5.0759\n",
            "\n",
            "Epoch 00006: loss improved from 5.31485 to 5.07586, saving model to /content/gdrive/My Drive/ICE477/next_word_text.h5\n",
            "Epoch 7/70\n",
            "1015/1015 [==============================] - 34s 34ms/step - loss: 4.8291\n",
            "\n",
            "Epoch 00007: loss improved from 5.07586 to 4.82909, saving model to /content/gdrive/My Drive/ICE477/next_word_text.h5\n",
            "Epoch 8/70\n",
            "1015/1015 [==============================] - 34s 34ms/step - loss: 4.5603\n",
            "\n",
            "Epoch 00008: loss improved from 4.82909 to 4.56029, saving model to /content/gdrive/My Drive/ICE477/next_word_text.h5\n",
            "Epoch 9/70\n",
            "1015/1015 [==============================] - 34s 34ms/step - loss: 4.2744\n",
            "\n",
            "Epoch 00009: loss improved from 4.56029 to 4.27438, saving model to /content/gdrive/My Drive/ICE477/next_word_text.h5\n",
            "Epoch 10/70\n",
            "1015/1015 [==============================] - 34s 33ms/step - loss: 3.9797\n",
            "\n",
            "Epoch 00010: loss improved from 4.27438 to 3.97969, saving model to /content/gdrive/My Drive/ICE477/next_word_text.h5\n",
            "Epoch 11/70\n",
            "1015/1015 [==============================] - 34s 33ms/step - loss: 3.6838\n",
            "\n",
            "Epoch 00011: loss improved from 3.97969 to 3.68380, saving model to /content/gdrive/My Drive/ICE477/next_word_text.h5\n",
            "Epoch 12/70\n",
            "1015/1015 [==============================] - 34s 33ms/step - loss: 3.3987\n",
            "\n",
            "Epoch 00012: loss improved from 3.68380 to 3.39873, saving model to /content/gdrive/My Drive/ICE477/next_word_text.h5\n",
            "Epoch 13/70\n",
            "1015/1015 [==============================] - 34s 33ms/step - loss: 3.1330\n",
            "\n",
            "Epoch 00013: loss improved from 3.39873 to 3.13302, saving model to /content/gdrive/My Drive/ICE477/next_word_text.h5\n",
            "Epoch 14/70\n",
            "1015/1015 [==============================] - 34s 33ms/step - loss: 2.8892\n",
            "\n",
            "Epoch 00014: loss improved from 3.13302 to 2.88923, saving model to /content/gdrive/My Drive/ICE477/next_word_text.h5\n",
            "Epoch 15/70\n",
            "1015/1015 [==============================] - 34s 33ms/step - loss: 2.6597\n",
            "\n",
            "Epoch 00015: loss improved from 2.88923 to 2.65966, saving model to /content/gdrive/My Drive/ICE477/next_word_text.h5\n",
            "Epoch 16/70\n",
            "1015/1015 [==============================] - 34s 33ms/step - loss: 2.4525\n",
            "\n",
            "Epoch 00016: loss improved from 2.65966 to 2.45248, saving model to /content/gdrive/My Drive/ICE477/next_word_text.h5\n",
            "Epoch 17/70\n",
            "1015/1015 [==============================] - 34s 33ms/step - loss: 2.2531\n",
            "\n",
            "Epoch 00017: loss improved from 2.45248 to 2.25307, saving model to /content/gdrive/My Drive/ICE477/next_word_text.h5\n",
            "Epoch 18/70\n",
            "1015/1015 [==============================] - 34s 33ms/step - loss: 2.0636\n",
            "\n",
            "Epoch 00018: loss improved from 2.25307 to 2.06364, saving model to /content/gdrive/My Drive/ICE477/next_word_text.h5\n",
            "Epoch 19/70\n",
            "1015/1015 [==============================] - 34s 33ms/step - loss: 1.8779\n",
            "\n",
            "Epoch 00019: loss improved from 2.06364 to 1.87795, saving model to /content/gdrive/My Drive/ICE477/next_word_text.h5\n",
            "Epoch 20/70\n",
            "1015/1015 [==============================] - 34s 33ms/step - loss: 1.6987\n",
            "\n",
            "Epoch 00020: loss improved from 1.87795 to 1.69866, saving model to /content/gdrive/My Drive/ICE477/next_word_text.h5\n",
            "Epoch 21/70\n",
            "1015/1015 [==============================] - 34s 34ms/step - loss: 1.5321\n",
            "\n",
            "Epoch 00021: loss improved from 1.69866 to 1.53205, saving model to /content/gdrive/My Drive/ICE477/next_word_text.h5\n",
            "Epoch 22/70\n",
            "1015/1015 [==============================] - 34s 33ms/step - loss: 1.3732\n",
            "\n",
            "Epoch 00022: loss improved from 1.53205 to 1.37318, saving model to /content/gdrive/My Drive/ICE477/next_word_text.h5\n",
            "Epoch 23/70\n",
            "1015/1015 [==============================] - 34s 34ms/step - loss: 1.2221\n",
            "\n",
            "Epoch 00023: loss improved from 1.37318 to 1.22206, saving model to /content/gdrive/My Drive/ICE477/next_word_text.h5\n",
            "Epoch 24/70\n",
            "1015/1015 [==============================] - 34s 33ms/step - loss: 1.0912\n",
            "\n",
            "Epoch 00024: loss improved from 1.22206 to 1.09119, saving model to /content/gdrive/My Drive/ICE477/next_word_text.h5\n",
            "Epoch 25/70\n",
            "1015/1015 [==============================] - 34s 33ms/step - loss: 0.9766\n",
            "\n",
            "Epoch 00025: loss improved from 1.09119 to 0.97657, saving model to /content/gdrive/My Drive/ICE477/next_word_text.h5\n",
            "Epoch 26/70\n",
            "1015/1015 [==============================] - 34s 33ms/step - loss: 0.8787\n",
            "\n",
            "Epoch 00026: loss improved from 0.97657 to 0.87868, saving model to /content/gdrive/My Drive/ICE477/next_word_text.h5\n",
            "Epoch 27/70\n",
            "1015/1015 [==============================] - 34s 34ms/step - loss: 0.7892\n",
            "\n",
            "Epoch 00027: loss improved from 0.87868 to 0.78919, saving model to /content/gdrive/My Drive/ICE477/next_word_text.h5\n",
            "Epoch 28/70\n",
            "1015/1015 [==============================] - 34s 34ms/step - loss: 0.7187\n",
            "\n",
            "Epoch 00028: loss improved from 0.78919 to 0.71873, saving model to /content/gdrive/My Drive/ICE477/next_word_text.h5\n",
            "Epoch 29/70\n",
            "1015/1015 [==============================] - 34s 34ms/step - loss: 0.6634\n",
            "\n",
            "Epoch 00029: loss improved from 0.71873 to 0.66337, saving model to /content/gdrive/My Drive/ICE477/next_word_text.h5\n",
            "Epoch 30/70\n",
            "1015/1015 [==============================] - 34s 33ms/step - loss: 0.6087\n",
            "\n",
            "Epoch 00030: loss improved from 0.66337 to 0.60871, saving model to /content/gdrive/My Drive/ICE477/next_word_text.h5\n",
            "Epoch 31/70\n",
            "1015/1015 [==============================] - 34s 33ms/step - loss: 0.5760\n",
            "\n",
            "Epoch 00031: loss improved from 0.60871 to 0.57597, saving model to /content/gdrive/My Drive/ICE477/next_word_text.h5\n",
            "Epoch 32/70\n",
            "1015/1015 [==============================] - 34s 33ms/step - loss: 0.5408\n",
            "\n",
            "Epoch 00032: loss improved from 0.57597 to 0.54079, saving model to /content/gdrive/My Drive/ICE477/next_word_text.h5\n",
            "Epoch 33/70\n",
            "1015/1015 [==============================] - 34s 34ms/step - loss: 0.5089\n",
            "\n",
            "Epoch 00033: loss improved from 0.54079 to 0.50890, saving model to /content/gdrive/My Drive/ICE477/next_word_text.h5\n",
            "Epoch 34/70\n",
            "1015/1015 [==============================] - 34s 33ms/step - loss: 0.4859\n",
            "\n",
            "Epoch 00034: loss improved from 0.50890 to 0.48595, saving model to /content/gdrive/My Drive/ICE477/next_word_text.h5\n",
            "Epoch 35/70\n",
            "1015/1015 [==============================] - 34s 34ms/step - loss: 0.4755\n",
            "\n",
            "Epoch 00035: loss improved from 0.48595 to 0.47555, saving model to /content/gdrive/My Drive/ICE477/next_word_text.h5\n",
            "Epoch 36/70\n",
            "1015/1015 [==============================] - 34s 34ms/step - loss: 0.4475\n",
            "\n",
            "Epoch 00036: loss improved from 0.47555 to 0.44745, saving model to /content/gdrive/My Drive/ICE477/next_word_text.h5\n",
            "Epoch 37/70\n",
            "1015/1015 [==============================] - 34s 34ms/step - loss: 0.4364\n",
            "\n",
            "Epoch 00037: loss improved from 0.44745 to 0.43642, saving model to /content/gdrive/My Drive/ICE477/next_word_text.h5\n",
            "Epoch 38/70\n",
            "1015/1015 [==============================] - 34s 34ms/step - loss: 0.4218\n",
            "\n",
            "Epoch 00038: loss improved from 0.43642 to 0.42178, saving model to /content/gdrive/My Drive/ICE477/next_word_text.h5\n",
            "Epoch 39/70\n",
            "1015/1015 [==============================] - 34s 33ms/step - loss: 0.4129\n",
            "\n",
            "Epoch 00039: loss improved from 0.42178 to 0.41289, saving model to /content/gdrive/My Drive/ICE477/next_word_text.h5\n",
            "Epoch 40/70\n",
            "1015/1015 [==============================] - 34s 33ms/step - loss: 0.3999\n",
            "\n",
            "Epoch 00040: loss improved from 0.41289 to 0.39987, saving model to /content/gdrive/My Drive/ICE477/next_word_text.h5\n",
            "Epoch 41/70\n",
            "1015/1015 [==============================] - 34s 33ms/step - loss: 0.3874\n",
            "\n",
            "Epoch 00041: loss improved from 0.39987 to 0.38735, saving model to /content/gdrive/My Drive/ICE477/next_word_text.h5\n",
            "Epoch 42/70\n",
            "1015/1015 [==============================] - 34s 33ms/step - loss: 0.3792\n",
            "\n",
            "Epoch 00042: loss improved from 0.38735 to 0.37916, saving model to /content/gdrive/My Drive/ICE477/next_word_text.h5\n",
            "Epoch 43/70\n",
            "1015/1015 [==============================] - 34s 33ms/step - loss: 0.3749\n",
            "\n",
            "Epoch 00043: loss improved from 0.37916 to 0.37490, saving model to /content/gdrive/My Drive/ICE477/next_word_text.h5\n",
            "Epoch 44/70\n",
            "1015/1015 [==============================] - 34s 33ms/step - loss: 0.3634\n",
            "\n",
            "Epoch 00044: loss improved from 0.37490 to 0.36343, saving model to /content/gdrive/My Drive/ICE477/next_word_text.h5\n",
            "Epoch 45/70\n",
            "1015/1015 [==============================] - 34s 34ms/step - loss: 0.3562\n",
            "\n",
            "Epoch 00045: loss improved from 0.36343 to 0.35623, saving model to /content/gdrive/My Drive/ICE477/next_word_text.h5\n",
            "Epoch 46/70\n",
            "1015/1015 [==============================] - 34s 34ms/step - loss: 0.3523\n",
            "\n",
            "Epoch 00046: loss improved from 0.35623 to 0.35234, saving model to /content/gdrive/My Drive/ICE477/next_word_text.h5\n",
            "Epoch 47/70\n",
            "1015/1015 [==============================] - 34s 34ms/step - loss: 0.3429\n",
            "\n",
            "Epoch 00047: loss improved from 0.35234 to 0.34293, saving model to /content/gdrive/My Drive/ICE477/next_word_text.h5\n",
            "Epoch 48/70\n",
            "1015/1015 [==============================] - 34s 34ms/step - loss: 0.3376\n",
            "\n",
            "Epoch 00048: loss improved from 0.34293 to 0.33756, saving model to /content/gdrive/My Drive/ICE477/next_word_text.h5\n",
            "Epoch 49/70\n",
            "1015/1015 [==============================] - 34s 34ms/step - loss: 0.3323\n",
            "\n",
            "Epoch 00049: loss improved from 0.33756 to 0.33226, saving model to /content/gdrive/My Drive/ICE477/next_word_text.h5\n",
            "Epoch 50/70\n",
            "1015/1015 [==============================] - 34s 34ms/step - loss: 0.3284\n",
            "\n",
            "Epoch 00050: loss improved from 0.33226 to 0.32839, saving model to /content/gdrive/My Drive/ICE477/next_word_text.h5\n",
            "Epoch 51/70\n",
            "1015/1015 [==============================] - 34s 34ms/step - loss: 0.3201\n",
            "\n",
            "Epoch 00051: loss improved from 0.32839 to 0.32009, saving model to /content/gdrive/My Drive/ICE477/next_word_text.h5\n",
            "Epoch 52/70\n",
            "1015/1015 [==============================] - 34s 34ms/step - loss: 0.3174\n",
            "\n",
            "Epoch 00052: loss improved from 0.32009 to 0.31737, saving model to /content/gdrive/My Drive/ICE477/next_word_text.h5\n",
            "Epoch 53/70\n",
            "1015/1015 [==============================] - 34s 34ms/step - loss: 0.3129\n",
            "\n",
            "Epoch 00053: loss improved from 0.31737 to 0.31286, saving model to /content/gdrive/My Drive/ICE477/next_word_text.h5\n",
            "Epoch 54/70\n",
            "1015/1015 [==============================] - 34s 34ms/step - loss: 0.3103\n",
            "\n",
            "Epoch 00054: loss improved from 0.31286 to 0.31027, saving model to /content/gdrive/My Drive/ICE477/next_word_text.h5\n",
            "Epoch 55/70\n",
            "1015/1015 [==============================] - 34s 34ms/step - loss: 0.3060\n",
            "\n",
            "Epoch 00055: loss improved from 0.31027 to 0.30598, saving model to /content/gdrive/My Drive/ICE477/next_word_text.h5\n",
            "Epoch 56/70\n",
            "1015/1015 [==============================] - 34s 34ms/step - loss: 0.3050\n",
            "\n",
            "Epoch 00056: loss improved from 0.30598 to 0.30498, saving model to /content/gdrive/My Drive/ICE477/next_word_text.h5\n",
            "Epoch 57/70\n",
            "1015/1015 [==============================] - 34s 34ms/step - loss: 0.2972\n",
            "\n",
            "Epoch 00057: loss improved from 0.30498 to 0.29724, saving model to /content/gdrive/My Drive/ICE477/next_word_text.h5\n",
            "Epoch 58/70\n",
            "1015/1015 [==============================] - 34s 34ms/step - loss: 0.2943\n",
            "\n",
            "Epoch 00058: loss improved from 0.29724 to 0.29425, saving model to /content/gdrive/My Drive/ICE477/next_word_text.h5\n",
            "Epoch 59/70\n",
            "1015/1015 [==============================] - 34s 34ms/step - loss: 0.2944\n",
            "\n",
            "Epoch 00059: loss did not improve from 0.29425\n",
            "Epoch 60/70\n",
            "1015/1015 [==============================] - 34s 33ms/step - loss: 0.2887\n",
            "\n",
            "Epoch 00060: loss improved from 0.29425 to 0.28868, saving model to /content/gdrive/My Drive/ICE477/next_word_text.h5\n",
            "Epoch 61/70\n",
            "1015/1015 [==============================] - 34s 34ms/step - loss: 0.2798\n",
            "\n",
            "Epoch 00061: loss improved from 0.28868 to 0.27981, saving model to /content/gdrive/My Drive/ICE477/next_word_text.h5\n",
            "Epoch 62/70\n",
            "1015/1015 [==============================] - 34s 34ms/step - loss: 0.2771\n",
            "\n",
            "Epoch 00062: loss improved from 0.27981 to 0.27715, saving model to /content/gdrive/My Drive/ICE477/next_word_text.h5\n",
            "Epoch 63/70\n",
            "1015/1015 [==============================] - 34s 34ms/step - loss: 0.2818\n",
            "\n",
            "Epoch 00063: loss did not improve from 0.27715\n",
            "Epoch 64/70\n",
            "1015/1015 [==============================] - 34s 33ms/step - loss: 0.2875\n",
            "\n",
            "Epoch 00064: loss did not improve from 0.27715\n",
            "Epoch 65/70\n",
            "1015/1015 [==============================] - 34s 33ms/step - loss: 0.2718\n",
            "\n",
            "Epoch 00065: loss improved from 0.27715 to 0.27181, saving model to /content/gdrive/My Drive/ICE477/next_word_text.h5\n",
            "Epoch 66/70\n",
            "1015/1015 [==============================] - 34s 33ms/step - loss: 0.2654\n",
            "\n",
            "Epoch 00066: loss improved from 0.27181 to 0.26543, saving model to /content/gdrive/My Drive/ICE477/next_word_text.h5\n",
            "Epoch 67/70\n",
            "1015/1015 [==============================] - 34s 34ms/step - loss: 0.2659\n",
            "\n",
            "Epoch 00067: loss did not improve from 0.26543\n",
            "Epoch 68/70\n",
            "1015/1015 [==============================] - 34s 33ms/step - loss: 0.2747\n",
            "\n",
            "Epoch 00068: loss did not improve from 0.26543\n",
            "Epoch 69/70\n",
            "1015/1015 [==============================] - 34s 33ms/step - loss: 0.2693\n",
            "\n",
            "Epoch 00069: loss did not improve from 0.26543\n",
            "Epoch 70/70\n",
            "1015/1015 [==============================] - 34s 33ms/step - loss: 0.2621\n",
            "\n",
            "Epoch 00070: loss improved from 0.26543 to 0.26206, saving model to /content/gdrive/My Drive/ICE477/next_word_text.h5\n"
          ]
        },
        {
          "output_type": "execute_result",
          "data": {
            "text/plain": [
              "<keras.callbacks.History at 0x7f93ec268350>"
            ]
          },
          "metadata": {},
          "execution_count": 17
        }
      ]
    },
    {
      "cell_type": "markdown",
      "metadata": {
        "id": "yXp-sSCiP4f2"
      },
      "source": [
        "# **Predict**"
      ]
    },
    {
      "cell_type": "code",
      "metadata": {
        "id": "KvX8iOLOP7rP"
      },
      "source": [
        "# Load the model and tokenizer\n",
        "from tensorflow.keras.models import load_model\n",
        "import numpy as np\n",
        "import pickle\n",
        "\n",
        "model = load_model(saved_model_location)\n",
        "tokenizer = pickle.load(open(Saved_Token_Path,'rb'))\n",
        "def Predict_Next_Words(model,tokenizer,text):\n",
        "  sequence = tokenizer.texts_to_sequences([text])\n",
        "  sequence = np.array(sequence)\n",
        "  preds = np.argmax(model.predict(sequence))\n",
        "  predicted_word = ''\n",
        "  for key, value in tokenizer.word_index.items():\n",
        "    if value == preds:\n",
        "      predicted_word = key\n",
        "      break\n",
        "\n",
        "  print(predicted_word)\n",
        "  return predicted_word"
      ],
      "execution_count": null,
      "outputs": []
    },
    {
      "cell_type": "code",
      "metadata": {
        "colab": {
          "base_uri": "https://localhost:8080/"
        },
        "id": "HRFZMWCuSGEl",
        "outputId": "cf6d47ea-4d3d-4ee8-d819-c99bf09fe655"
      },
      "source": [
        "while (True):\n",
        "  text = input('Enter your line')\n",
        "  if text == '0' :\n",
        "    print('Thank You for Using........')\n",
        "    break\n",
        "  else:\n",
        "    try:\n",
        "      text = text.split()\n",
        "      text = text[-3:]\n",
        "      print(text)\n",
        "      Predict_Next_Words(model, tokenizer, text)\n",
        "    except Exception as e:\n",
        "      print('Error Occured:',e)\n",
        "      continue"
      ],
      "execution_count": null,
      "outputs": [
        {
          "output_type": "stream",
          "name": "stdout",
          "text": [
            "Enter your linemy father came\n",
            "['my', 'father', 'came']\n",
            "we\n",
            "Enter your lineI got a reply to my\n",
            "['reply', 'to', 'my']\n",
            "next\n",
            "Enter your linereached the Himalayan\n",
            "['reached', 'the', 'Himalayan']\n",
            "hill\n",
            "Enter your linehe simply remarked\n",
            "['he', 'simply', 'remarked']\n",
            "very\n",
            "Enter your lineeven ceased to\n",
            "['even', 'ceased', 'to']\n",
            "scold\n",
            "Enter your line0\n",
            "Thank You for Using........\n"
          ]
        }
      ]
    }
  ]
}